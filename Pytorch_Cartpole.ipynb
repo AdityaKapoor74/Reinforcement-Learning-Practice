{
  "nbformat": 4,
  "nbformat_minor": 0,
  "metadata": {
    "colab": {
      "name": "Pytorch_Cartpole.ipynb",
      "provenance": []
    },
    "kernelspec": {
      "name": "python3",
      "display_name": "Python 3"
    },
    "accelerator": "GPU"
  },
  "cells": [
    {
      "cell_type": "markdown",
      "metadata": {
        "id": "zuQp9lHvh3kW",
        "colab_type": "text"
      },
      "source": [
        "# Do the following to have the graphical features available on Colab"
      ]
    },
    {
      "cell_type": "code",
      "metadata": {
        "id": "xONcNlnJG3Il",
        "colab_type": "code",
        "colab": {}
      },
      "source": [
        "#remove \" > /dev/null 2>&1\" to see what is going on under the hood\n",
        "!pip install gym pyvirtualdisplay > /dev/null 2>&1\n",
        "!apt-get install -y xvfb python-opengl ffmpeg > /dev/null 2>&1"
      ],
      "execution_count": 0,
      "outputs": []
    },
    {
      "cell_type": "code",
      "metadata": {
        "id": "2CYkAyogG8MP",
        "colab_type": "code",
        "colab": {
          "base_uri": "https://localhost:8080/",
          "height": 54
        },
        "outputId": "b40beb7e-8887-4eda-b2b6-b49074068244"
      },
      "source": [
        "!apt-get update > /dev/null 2>&1\n",
        "!apt-get install cmake > /dev/null 2>&1\n",
        "!pip install --upgrade setuptools 2>&1\n",
        "!pip install ez_setup > /dev/null 2>&1\n",
        "!pip install gym[atari] > /dev/null 2>&1"
      ],
      "execution_count": 2,
      "outputs": [
        {
          "output_type": "stream",
          "text": [
            "Requirement already up-to-date: setuptools in /usr/local/lib/python3.6/dist-packages (46.1.3)\n"
          ],
          "name": "stdout"
        }
      ]
    },
    {
      "cell_type": "markdown",
      "metadata": {
        "id": "KWi93WmDhyNj",
        "colab_type": "text"
      },
      "source": [
        "## **Necessary Imports**"
      ]
    },
    {
      "cell_type": "code",
      "metadata": {
        "id": "dVhFsJUVO1dY",
        "colab_type": "code",
        "colab": {}
      },
      "source": [
        "import gym\n",
        "from gym import logger as gymlogger\n",
        "from gym.wrappers import Monitor\n",
        "gymlogger.set_level(40) #error only\n",
        "import math\n",
        "import random\n",
        "import numpy as np\n",
        "import matplotlib\n",
        "import matplotlib.pyplot as plt\n",
        "%matplotlib inline\n",
        "import glob\n",
        "import io\n",
        "import base64\n",
        "from IPython.display import HTML\n",
        "from IPython import display as ipythondisplay\n",
        "from collections import namedtuple\n",
        "from itertools import count\n",
        "from PIL import Image\n",
        "import torch\n",
        "import torch.nn as nn\n",
        "import torch.optim as optim\n",
        "import torch.nn.functional as F\n",
        "import torchvision.transforms as T  "
      ],
      "execution_count": 0,
      "outputs": []
    },
    {
      "cell_type": "code",
      "metadata": {
        "id": "hbWqjxT7O2MU",
        "colab_type": "code",
        "colab": {
          "base_uri": "https://localhost:8080/",
          "height": 70
        },
        "outputId": "b4c05cd6-87a9-40ed-8a12-3bc9f5dca16e"
      },
      "source": [
        "is_ipython = 'inline' in matplotlib.get_backend()\n",
        "# if is_python: from IPython import display\n",
        "\n",
        "from pyvirtualdisplay import Display\n",
        "display = Display(visible=0, size=(1400, 900))\n",
        "display.start()"
      ],
      "execution_count": 4,
      "outputs": [
        {
          "output_type": "stream",
          "text": [
            "xdpyinfo was not found, X start can not be checked! Please install xdpyinfo!\n"
          ],
          "name": "stderr"
        },
        {
          "output_type": "execute_result",
          "data": {
            "text/plain": [
              "<Display cmd_param=['Xvfb', '-br', '-nolisten', 'tcp', '-screen', '0', '1400x900x24', ':1033'] cmd=['Xvfb', '-br', '-nolisten', 'tcp', '-screen', '0', '1400x900x24', ':1033'] oserror=None return_code=None stdout=\"None\" stderr=\"None\" timeout_happened=False>"
            ]
          },
          "metadata": {
            "tags": []
          },
          "execution_count": 4
        }
      ]
    },
    {
      "cell_type": "markdown",
      "metadata": {
        "id": "FMQBstOYiIj1",
        "colab_type": "text"
      },
      "source": [
        "# **Utility Functions for displaying video**"
      ]
    },
    {
      "cell_type": "code",
      "metadata": {
        "id": "arl5kM65Hate",
        "colab_type": "code",
        "colab": {}
      },
      "source": [
        "\"\"\"\n",
        "Utility functions to enable video recording of gym environment and displaying it\n",
        "To enable video, just do \"env = wrap_env(env)\"\"\n",
        "\"\"\"\n",
        "\n",
        "def show_video():\n",
        "  mp4list = glob.glob('video/*.mp4')\n",
        "  if len(mp4list) > 0:\n",
        "    mp4 = mp4list[0]\n",
        "    video = io.open(mp4, 'r+b').read()\n",
        "    encoded = base64.b64encode(video)\n",
        "    ipythondisplay.display(HTML(data='''<video alt=\"test\" autoplay \n",
        "                loop controls style=\"height: 400px;\">\n",
        "                <source src=\"data:video/mp4;base64,{0}\" type=\"video/mp4\" />\n",
        "             </video>'''.format(encoded.decode('ascii'))))\n",
        "  else: \n",
        "    print(\"Could not find video\")\n",
        "    \n",
        "\n",
        "def wrap_env(env):\n",
        "  env = Monitor(env, './video', force=True)\n",
        "  return env"
      ],
      "execution_count": 0,
      "outputs": []
    },
    {
      "cell_type": "markdown",
      "metadata": {
        "id": "zd2AtivtheRb",
        "colab_type": "text"
      },
      "source": [
        "This method is the most suitable and easy for solving CartPole problem.\n",
        "You can further increase the complexity of this model.\n",
        "\n",
        "\n",
        "There are 2 fully connected layers which are given the input, a matrix with the following dimensions:\n",
        "(height_of_image x width_of_image x num_of_channels (i.e. 3, RBG)\n",
        "\n",
        "It will be safe to mention here that the input to the network is the difference between the next state and the current state. This is done so that the network takes into consideration the velocity of the cart."
      ]
    },
    {
      "cell_type": "code",
      "metadata": {
        "id": "6BC1xQn1PEP6",
        "colab_type": "code",
        "colab": {}
      },
      "source": [
        "class DQN(nn.Module):\n",
        "  def __init__(self,img_height,img_width):\n",
        "    super().__init__()\n",
        "\n",
        "    self.fc1 = nn.Linear(in_features=img_height*img_width*3,out_features=24)\n",
        "    self.fc2 = nn.Linear(in_features=24,out_features=32)\n",
        "    self.out = nn.Linear(in_features=32, out_features=2)\n",
        "\n",
        "  def forward(self,t):\n",
        "    t = t.flatten(start_dim=1)\n",
        "    t = F.relu(self.fc1(t))\n",
        "    t = F.relu(self.fc2(t))\n",
        "    t = self.out(t)\n",
        "    return t\n",
        "\n"
      ],
      "execution_count": 0,
      "outputs": []
    },
    {
      "cell_type": "markdown",
      "metadata": {
        "id": "Dmms0C9kliUp",
        "colab_type": "text"
      },
      "source": [
        "We have created a namedtuple which will be stored in the ReplayMemory.\n",
        "It is convinient to use a single variable to access all the necessary features of the network."
      ]
    },
    {
      "cell_type": "code",
      "metadata": {
        "id": "r_X-d3ZrRfLU",
        "colab_type": "code",
        "colab": {}
      },
      "source": [
        "Experience = namedtuple('Experience',('state','action','next_state','reward'))"
      ],
      "execution_count": 0,
      "outputs": []
    },
    {
      "cell_type": "markdown",
      "metadata": {
        "id": "AV1LgKLoltGY",
        "colab_type": "text"
      },
      "source": [
        "We use a new data structure, called ReplayMemory so that the network doesn't forget the previous states which are passed to it.\n",
        "\n",
        "This is so because if the network is fed in a continuous frame followed by another frame, it tends to remember the sequence and not actually learn how to carry out the task.\n",
        "\n",
        "With Replay Memory, we store the states which are to be fed to the network and sample from it randomly to break the patterned learning form.\n",
        "\n",
        "This datastructure has a capacity which can be set by the user depending on their preference and is like a Circular List. You keep appending to the list till the capacity has been reached or you replace the elements."
      ]
    },
    {
      "cell_type": "code",
      "metadata": {
        "id": "drSFUfYsTMa3",
        "colab_type": "code",
        "colab": {}
      },
      "source": [
        "class ReplayMemory():\n",
        "  def __init__(self,capacity):\n",
        "    self.capacity = capacity\n",
        "    self.memory = []\n",
        "    self.push_count = 0\n",
        "\n",
        "  def push(self,experience):\n",
        "    if len(self.memory)<self.capacity:\n",
        "      self.memory.append(experience)\n",
        "    else:\n",
        "      self.memory[self.push_count%self.capacity] = experience\n",
        "    self.push_count+=1\n",
        "\n",
        "  def sample(self,batch_size):\n",
        "    return random.sample(self.memory, batch_size)\n",
        "\n",
        "  def can_provide_sample(self,batch_size):\n",
        "    return len(self.memory)>=batch_size"
      ],
      "execution_count": 0,
      "outputs": []
    },
    {
      "cell_type": "markdown",
      "metadata": {
        "id": "X0LkJrmJnF_I",
        "colab_type": "text"
      },
      "source": [
        "This strategy is used so that the network explores and exploits at the same time. In order to maintain this balance and to improve the performance of the algorithm, we initially start to explore as we don't have any strategy of selecting the optimal choice. Then as time progresses we start to decay the exploration rate and as a result, the strategy switches to exploit the space with the best possible actions for the foreseeable future."
      ]
    },
    {
      "cell_type": "code",
      "metadata": {
        "id": "_n25WUZdMPug",
        "colab_type": "code",
        "colab": {}
      },
      "source": [
        "class EpsilonGreedyStrategy():\n",
        "  def __init__(self,start,end,decay):\n",
        "    self.start = start\n",
        "    self.end = end\n",
        "    self.decay = decay\n",
        "\n",
        "  def get_exploration_rate(self,current_step):\n",
        "    return self.end+(self.start-self.end)*math.exp(-1*current_step*self.decay)"
      ],
      "execution_count": 0,
      "outputs": []
    },
    {
      "cell_type": "markdown",
      "metadata": {
        "id": "KcP87EJMn6ub",
        "colab_type": "text"
      },
      "source": [
        "This is the agent class which will be actually controlling the Cart to balance the pole with EpsilonGreedy Strategy.\n",
        "\n",
        "It generates a random number to check with the epsilon rate. If it is higher it explores, if it is lower, it exploits."
      ]
    },
    {
      "cell_type": "code",
      "metadata": {
        "id": "1BdPCAhNNBkD",
        "colab_type": "code",
        "colab": {}
      },
      "source": [
        "class Agent():\n",
        "  def __init__(self,strategy,num_actions,device):\n",
        "    self.current_step = 0\n",
        "    self.strategy = strategy\n",
        "    self.num_actions = num_actions\n",
        "    self.device = device\n",
        "\n",
        "  def select_action(self,state,policy_net):\n",
        "    rate = strategy.get_exploration_rate(self.current_step)\n",
        "    self.current_step+=1\n",
        "\n",
        "    if rate>random.random():\n",
        "      action = random.randrange(self.num_actions)\n",
        "      return torch.tensor([action]).to(device)\n",
        "    else:\n",
        "      with torch.no_grad():\n",
        "        return policy_net(state).argmax(dim=1).to(device)"
      ],
      "execution_count": 0,
      "outputs": []
    },
    {
      "cell_type": "markdown",
      "metadata": {
        "id": "fATIF6t5oT3X",
        "colab_type": "text"
      },
      "source": [
        "This is a class with all the necessary functions to interact with the environment.\n",
        "\n",
        "Most of the functions are self explainatory. However, let's discuss the preprocessing part.\n",
        "\n",
        "As the CartPole window comprises of unwanted regions of focus to the network, we reduce the screen size and focus on just the necessary bit by cropping. Later, we normalize the pixel values from [0,1] and make use of torchvision transforms to get PILImage, Resize it and convert it into a Tensor.\n",
        "\n",
        "Note that for the final state, we return a black screen."
      ]
    },
    {
      "cell_type": "code",
      "metadata": {
        "id": "lNTR1woqN068",
        "colab_type": "code",
        "colab": {}
      },
      "source": [
        "class CartPoleEnvManager():\n",
        "  def __init__(self,device):\n",
        "    self.device = device\n",
        "    self.env = wrap_env(gym.make('CartPole-v0').unwrapped)\n",
        "    self.env.reset()\n",
        "    self.current_screen = None\n",
        "    self.done = False\n",
        "  \n",
        "  def reset(self):\n",
        "    self.env.reset()\n",
        "    self.current_screen = None\n",
        "  \n",
        "  def close(self):\n",
        "    self.env.close()\n",
        "\n",
        "  def render(self,mode='human'):\n",
        "    return self.env.render(mode)\n",
        "\n",
        "  def num_actions_available(self):\n",
        "    return self.env.action_space.n\n",
        "\n",
        "  def take_action(self,action):\n",
        "    _, reward, self.done, _ = self.env.step(action.item())\n",
        "    return torch.tensor([reward],device=self.device)\n",
        "\n",
        "  def just_starting(self):\n",
        "    return self.current_screen is None\n",
        "\n",
        "  def get_state(self):\n",
        "    if self.just_starting() or self.done:\n",
        "      self.current_screen = self.get_processed_screen()\n",
        "      black_screen = torch.zeros_like(self.current_screen)\n",
        "      return black_screen\n",
        "    else:\n",
        "      s1 = self.current_screen\n",
        "      s2 = self.get_processed_screen()\n",
        "      self.current_screen = s2\n",
        "      return s2-s1\n",
        "\n",
        "  def get_screen_height(self):\n",
        "    screen = self.get_processed_screen()\n",
        "    return screen.shape[2]\n",
        "\n",
        "  def get_screen_width(self):\n",
        "    screen = self.get_processed_screen()\n",
        "    return screen.shape[3]\n",
        "\n",
        "  def get_processed_screen(self):\n",
        "    screen = self.render('rgb_array').transpose((2,0,1))\n",
        "    screen = self.crop_screen(screen)\n",
        "    return self.transform_screen_data(screen)\n",
        "\n",
        "  def crop_screen(self,screen):\n",
        "    screen_height = screen.shape[1]\n",
        "    top = int(screen_height*0.4)\n",
        "    bottom = int(screen_height*0.8)\n",
        "    screen = screen[:,top:bottom,:]\n",
        "    return screen\n",
        "\n",
        "  def transform_screen_data(self,screen):\n",
        "    screen = np.ascontiguousarray(screen,dtype=np.float32)/255\n",
        "    screen = torch.from_numpy(screen)\n",
        "\n",
        "    resize = T.Compose([T.ToPILImage(),T.Resize((40,90)),T.ToTensor()])\n",
        "\n",
        "    return resize(screen).unsqueeze(0).to(self.device)"
      ],
      "execution_count": 0,
      "outputs": []
    },
    {
      "cell_type": "markdown",
      "metadata": {
        "id": "3RUUgFEw2410",
        "colab_type": "text"
      },
      "source": [
        "These are 2 utility functions to plot the episode duration and the avg value of the episode duration over a given period of time. Episode duration will be for how long the simulation went for, that is for how long the cart could balance the pole. In this case, its 100 so for the first 100 episodes, the average episode duration will be 0."
      ]
    },
    {
      "cell_type": "code",
      "metadata": {
        "id": "qBc1PnRuHysj",
        "colab_type": "code",
        "colab": {}
      },
      "source": [
        "def plot(values,moving_avg_period):\n",
        "  plt.figure(2)\n",
        "  plt.clf()\n",
        "  plt.title('Training..')\n",
        "  plt.xlabel('Episode')\n",
        "  plt.ylabel('Duration')\n",
        "  plt.plot(values)\n",
        "  moving_avg = get_moving_average(moving_avg_period,values)\n",
        "  plt.plot(moving_avg)\n",
        "  plt.pause(0.001)\n",
        "  print(\"Episode\",len(values),\"\\n\",moving_avg_period,\"episode moving avg:\",moving_avg[-1])\n",
        "  if is_ipython: ipythondisplay.clear_output(wait=True)\n",
        "\n",
        "def get_moving_average(period,values):\n",
        "  values = torch.tensor(values,dtype=torch.float)\n",
        "  if len(values)>=period:\n",
        "    moving_avg = values.unfold(dimension=0, size=period,step=1).mean(dim=1).flatten(start_dim=0)\n",
        "    moving_avg = torch.cat((torch.zeros(period-1),moving_avg))\n",
        "    return moving_avg.numpy()\n",
        "  else:\n",
        "    moving_avg = torch.zeros(len(values))\n",
        "    return moving_avg.numpy()"
      ],
      "execution_count": 0,
      "outputs": []
    },
    {
      "cell_type": "code",
      "metadata": {
        "id": "kViD6N1MJTiJ",
        "colab_type": "code",
        "colab": {
          "base_uri": "https://localhost:8080/",
          "height": 329
        },
        "outputId": "6c778bc0-05da-4786-eb11-7f68a0b26457"
      },
      "source": [
        "plot(np.random.rand(300),100)"
      ],
      "execution_count": 13,
      "outputs": [
        {
          "output_type": "display_data",
          "data": {
            "image/png": "[encoded data removed]",
            "text/plain": [
              "<Figure size 432x288 with 1 Axes>"
            ]
          },
          "metadata": {
            "tags": [],
            "needs_background": "light"
          }
        },
        {
          "output_type": "stream",
          "text": [
            "Episode 300 \n",
            " 100 episode moving avg: 0.51921034\n"
          ],
          "name": "stdout"
        }
      ]
    },
    {
      "cell_type": "markdown",
      "metadata": {
        "id": "5-Cji8q_4Npo",
        "colab_type": "text"
      },
      "source": [
        "Setting the Hyperparameters\n",
        "\n",
        "\n",
        "You can choose to play with them a little to see how it changes the outcome of your training."
      ]
    },
    {
      "cell_type": "code",
      "metadata": {
        "id": "TjhpmAqtJxWZ",
        "colab_type": "code",
        "colab": {}
      },
      "source": [
        "batch_size = 256\n",
        "gamma = 0.999\n",
        "eps_start = 1\n",
        "eps_end = 0.01\n",
        "eps_decay = 0.001\n",
        "target_update = 10\n",
        "memory_size = 100000\n",
        "lr = 0.001\n",
        "num_episodes = 1000"
      ],
      "execution_count": 0,
      "outputs": []
    },
    {
      "cell_type": "markdown",
      "metadata": {
        "id": "yS0zjMMo4W4e",
        "colab_type": "text"
      },
      "source": [
        "Defining the necessary variables to carry out training.\n",
        "\n",
        "You will notice that we defined 2 networks, one with updating gradients and the other with no gradient updatation. The policy_net is used for carrying out training whereas the target_net is used to get the Q values of the next states.\n",
        "\n",
        "We do not use the same network for doing the same because then the Q values won't converge to the optimal values as both Q(s,a) and Q(s',a') will keep improving with the same network. As a result we have a target_net whose weights are updated in a few iterations after training the policy_net."
      ]
    },
    {
      "cell_type": "code",
      "metadata": {
        "id": "RD9YVy8oLmgM",
        "colab_type": "code",
        "colab": {}
      },
      "source": [
        "device = torch.device(\"cuda\" if torch.cuda.is_available() else \"cpu\")\n",
        "em = CartPoleEnvManager(device)\n",
        "strategy = EpsilonGreedyStrategy(eps_start,eps_end,eps_decay)\n",
        "agent = Agent(strategy,em.num_actions_available(),device)\n",
        "memory = ReplayMemory(memory_size)\n",
        "\n",
        "policy_net = DQN(em.get_screen_height(),em.get_screen_width()).to(device)\n",
        "target_net = DQN(em.get_screen_height(),em.get_screen_width()).to(device)\n",
        "target_net.load_state_dict(policy_net.state_dict())\n",
        "target_net.eval()\n",
        "optimizer = optim.Adam(params=policy_net.parameters(),lr=lr)"
      ],
      "execution_count": 0,
      "outputs": []
    },
    {
      "cell_type": "markdown",
      "metadata": {
        "id": "OCgW5i5Z4bCx",
        "colab_type": "text"
      },
      "source": [
        "This is the most tricky part of this code.\n",
        "\n",
        "Extract tensors is a function which extracts the individual entities of the named tuple Experience and stores them in a list form and returns a tuple of 4 (state,action,reward,next_state)\n",
        "\n",
        "\n",
        "QValues has 2 statict methods as a result you don't have to explicitly create an instance of this class.\n",
        "This is the class that we used to calculate the q-values for the current states using the policy_net, and the next states using the target_net.\n",
        "The first function just returns the predicted q-values from the policy_net for the specific state-action pairs that were passed in.\n",
        "\n",
        "\n",
        "The second function accepts a target_net and next_states. Recall that for each next state, we want to obtain the maximum q-value predicted by the target_net among all possible next actions.\n",
        "\n",
        "To do that, we first look in our next_states tensor and find the locations of all the final states. If an episode is ended by a given action, then we’re calling the next_state that occurs after that action was taken the final state.\n",
        "\n",
        "As all final states are represented using a black screen, we equate it to 0 to check for final states. After getting the location of the final states, we get the location of the non-final states.\n",
        "\n",
        "We did this so that we we do not compute the Q values of the final states as they will always be 0. Now we define the batch_size and make torch array of zeros and store it in variable vlaues.\n",
        "Later we calculated the Qvalues of the non-final states and stored it in the values variable.\n",
        "\n",
        "So now, we have final states with Q values 0 and non-final states with Qvalues estimated by target_net.\n",
        "\n"
      ]
    },
    {
      "cell_type": "code",
      "metadata": {
        "id": "nIrAr8G2TX1H",
        "colab_type": "code",
        "colab": {}
      },
      "source": [
        "def extract_tensors(experiences):\n",
        "\n",
        "  batch = Experience(*zip(*experiences))\n",
        "\n",
        "  t1 = torch.cat(batch.state)\n",
        "  t2 = torch.cat(batch.action)\n",
        "  t3 = torch.cat(batch.reward)\n",
        "  t4 = torch.cat(batch.next_state)\n",
        "\n",
        "  return (t1,t2,t3,t4)\n",
        "\n",
        "class QValues():\n",
        "  device = torch.device(\"cuda\" if torch.cuda.is_available() else \"cpu\")\n",
        "\n",
        "  @staticmethod\n",
        "  def get_current(policy_net,states,actions):\n",
        "    return policy_net(states).gather(dim=1,index=actions.unsqueeze(-1))\n",
        "\n",
        "  @staticmethod\n",
        "  def get_next(target_net, next_states):\n",
        "    final_state_locations = next_states.flatten(start_dim=1).max(dim=1)[0].eq(0).type(torch.bool)\n",
        "    non_final_state_locations = (final_state_locations == False)\n",
        "    non_final_states = next_states[non_final_state_locations]\n",
        "    batch_size = next_states.shape[0]\n",
        "    values = torch.zeros(batch_size).to(QValues.device)\n",
        "    values[non_final_state_locations] = target_net(non_final_states).max(dim=1)[0].detach()\n",
        "    return values"
      ],
      "execution_count": 0,
      "outputs": []
    },
    {
      "cell_type": "markdown",
      "metadata": {
        "id": "FIu3lcN58uba",
        "colab_type": "text"
      },
      "source": [
        "Here we train the network to get the following results.\n",
        "\n",
        "Note that we are only training iff we can sample a batch from the Replay Memory. If not then we keep appending to the Replay Memory till we can obtain a batch of the desired size from it."
      ]
    },
    {
      "cell_type": "code",
      "metadata": {
        "id": "rTB7nNGYM4-G",
        "colab_type": "code",
        "colab": {
          "base_uri": "https://localhost:8080/",
          "height": 421
        },
        "outputId": "116aa12e-32d9-4dcf-983e-8d8645215d67"
      },
      "source": [
        "episode_durations = []\n",
        "\n",
        "for episode in range(num_episodes):\n",
        "  em.reset()\n",
        "  state = em.get_state()\n",
        "\n",
        "  for timestep in count():\n",
        "    action = agent.select_action(state,policy_net)\n",
        "    reward = em.take_action(action)\n",
        "    next_state = em.get_state()\n",
        "    memory.push(Experience(state,action,next_state,reward))\n",
        "    state = next_state\n",
        "\n",
        "    if memory.can_provide_sample(batch_size):\n",
        "      experiences = memory.sample(batch_size)\n",
        "      states,actions,rewards,next_states = extract_tensors(experiences)\n",
        "\n",
        "      current_q_values = QValues.get_current(policy_net,states,actions)\n",
        "      next_q_values = QValues.get_next(target_net,next_states)\n",
        "      target_q_values = (next_q_values*gamma)+rewards\n",
        "\n",
        "      loss = F.mse_loss(current_q_values,target_q_values.unsqueeze(1))\n",
        "      optimizer.zero_grad()\n",
        "      loss.backward()\n",
        "      optimizer.step()\n",
        "\n",
        "    if em.done:\n",
        "      episode_durations.append(timestep)\n",
        "      plot(episode_durations,100)\n",
        "      break\n",
        "  if episode%target_update==0:\n",
        "    target_net.load_state_dict(policy_net.state_dict())\n",
        "  # em.reset()\n",
        "\n",
        "em.close()\n",
        "show_video()"
      ],
      "execution_count": 17,
      "outputs": [
        {
          "output_type": "display_data",
          "data": {
            "text/html": [
              "<video alt=\"test\" autoplay \n",
              "                loop controls style=\"height: 400px;\">\n",
              "                <source src=\"data:video/mp4;base64,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\" type=\"video/mp4\" />\n",
              "             </video>"
            ],
            "text/plain": [
              "<IPython.core.display.HTML object>"
            ]
          },
          "metadata": {
            "tags": []
          }
        }
      ]
    }
  ]
}